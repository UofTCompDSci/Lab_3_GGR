{
 "cells": [
  {
   "cell_type": "markdown",
   "id": "02b4379e",
   "metadata": {},
   "source": [
    "# Lab 3 — Introduction to Data Wrangling and Exploratory Data Analysis"
   ]
  },
  {
   "cell_type": "markdown",
   "id": "d20ddc0a",
   "metadata": {},
   "source": [
    "# Lab Instructions and Learning Objectives "
   ]
  },
  {
   "cell_type": "markdown",
   "id": "f794c502",
   "metadata": {},
   "source": [
    "Don't delete any of the cells in this notebook, and add markdown/code cells when asked.\n",
    "\n",
    "In this lab you will:\n",
    "\n",
    "  - Understand and implement crosstabulation in `pandas`.\n",
    "  \n",
    "\n"
   ]
  },
  {
   "cell_type": "markdown",
   "id": "9232b5bf",
   "metadata": {},
   "source": [
    "# How to submit"
   ]
  },
  {
   "cell_type": "markdown",
   "id": "59a68b75",
   "metadata": {},
   "source": [
    "1. Log in here: https://markus-ds.teach.cs.toronto.edu (Tip: Control/Command-click to open it in a new tab so you can still see these instructions.)\n",
    "2. Choose \\<course code>\n",
    "\n",
    "3. Click the lab3: Lab week 3 assessment.\n",
    "\n",
    "4. Click the `Submissions` tab. The new page is `lab3: Submissions`.\n",
    "\n",
    "5. Click button `Upload File` on the bottom right.\n",
    "\n",
    "6. Click button `Choose Files`.\n",
    "\n",
    "7. Select the `Lab_3.ipynb` file that you downloaded in the previous task, then click `Save`."
   ]
  },
  {
   "cell_type": "markdown",
   "id": "241fb26f",
   "metadata": {},
   "source": [
    "# Due Date  "
   ]
  },
  {
   "cell_type": "markdown",
   "id": "79530dd0",
   "metadata": {},
   "source": [
    "You will submit your completed labs as Notebook files on MarkUs. We have heard feedback that the time pressure to submit the lab is stressful, so we are changing the lab deadlines on MarkUs to Fridays at 10am."
   ]
  },
  {
   "cell_type": "markdown",
   "id": "93afa3e5",
   "metadata": {},
   "source": [
    "# Marking Rubric "
   ]
  },
  {
   "cell_type": "markdown",
   "id": "4a98c6e3",
   "metadata": {},
   "source": [
    "1 mark for having all the right variable names, plus 1 mark per correct variable type and value."
   ]
  },
  {
   "cell_type": "markdown",
   "id": "f69297ad",
   "metadata": {},
   "source": [
    "# Data science recipes\n",
    "\n",
    "We have written up [a few data science recipes](https://jupyter.utoronto.ca/hub/user-redirect/git-pull?repo=https%3A%2F%2Fgithub.com%2FUofTCompDSci%2Frecipes&branch=main&urlpath=tree%2Frecipes%2Fdata_science_recipes.ipynb) in a Jupyter notebook. You'll find these:\n",
    "\n",
    "+ Read a CSV file\n",
    "+ Calculate a statistic about a single column\n",
    "+ Subset a DataFrame by extracting columns\n",
    "+ Rename the columns in a DataFrame\n",
    "+ Subset a DataFrame by filtering rows that have a particular property"
   ]
  },
  {
   "cell_type": "markdown",
   "id": "dabdc59b",
   "metadata": {},
   "source": [
    "## Lab 3 Introduction"
   ]
  },
  {
   "cell_type": "markdown",
   "id": "ee7b23dc",
   "metadata": {},
   "source": [
    "In this lab, you will continue to work with data from week 3 class: Statistics Canada General Social Survey's (GSS) Time Use (TU) Survery Main File. You will continue to work with boolean conditions, you will work with multiple conditions, you will rename variables, and add new columns to your existing data frame. \n"
   ]
  },
  {
   "cell_type": "markdown",
   "id": "cffa6493",
   "metadata": {},
   "source": [
    "As usual, these labs are meant to facilitate your understanding of the material from lectures in a low-stakes environment. Please feel free to refer to your lecture content, collaborate with your peers, and seek out help from your TAs. "
   ]
  },
  {
   "cell_type": "markdown",
   "id": "2772a777",
   "metadata": {},
   "source": [
    "### Data Description "
   ]
  },
  {
   "cell_type": "markdown",
   "id": "7e3a6024",
   "metadata": {},
   "source": [
    "The data in this lab has been reduced from the size of the original GSS data set. The subset contains several variables pertaining to demographic characteristics, such as age group, sex, and urban status. It also contains several variables that indirectly examine factors that may influence stress levels among Canadians, such as number of young children, feeling rushed, and sleep duration.  "
   ]
  },
  {
   "cell_type": "code",
   "execution_count": null,
   "id": "5b699600",
   "metadata": {},
   "outputs": [],
   "source": [
    "import pandas as pd\n",
    "time_data = pd.read_csv('time_data.csv')\n",
    "time_data.head()"
   ]
  },
  {
   "cell_type": "markdown",
   "id": "375f2a25",
   "metadata": {},
   "source": [
    "## Question 1"
   ]
  },
  {
   "cell_type": "markdown",
   "id": "791207eb",
   "metadata": {},
   "source": [
    "We'll start by classifying participants into three groups based on how many childrent they have. The three groups are those with 0 children, those with 1 children, and those with 2 or more children.\n",
    "\n",
    "Write code to extract the `'Kids under 14'` column and name it `kids_under_14`. (What type is it?)\n",
    "\n",
    "Now create 3 Boolean `Series` based on `kids_under_14`:\n",
    "+ One named `no_kid` that contains `True` only for participants who have no kids and `False` otherwise\n",
    "+ One named `one_kid` that contains `True` only for participants with exactly 1 child\n",
    "+ One named `twoplus_kid` that contains `True` only for participants with 2 or more children.\n",
    "\n",
    "How many residents have 2 or more kids? Display that value by calling function `value_counts` using `twoplus_kid`.\n",
    "\n",
    "Refer to the lecture notes for how we created similar data, and also check out [the Data Science Recipes notebook](https://jupyter.utoronto.ca/hub/user-redirect/git-pull?repo=https%3A%2F%2Fgithub.com%2FUofTCompDSci%2Frecipes&branch=main&urlpath=tree%2Frecipes%2Fdata_science_recipes.ipynb)."
   ]
  },
  {
   "cell_type": "code",
   "execution_count": null,
   "id": "67b4a9d3",
   "metadata": {},
   "outputs": [],
   "source": [
    "# place your answer in this cell"
   ]
  },
  {
   "cell_type": "markdown",
   "id": "10f3a5ba",
   "metadata": {},
   "source": [
    "## Question 2"
   ]
  },
  {
   "cell_type": "markdown",
   "id": "32901d74",
   "metadata": {},
   "source": [
    "Now that we have your three categories, we can add a new column that has value `0` if the participant has `0` kids, `1` if they have `1`, and `2` if they have two or more. Those are our three groups.\n",
    "\n",
    "Below, we make a copy of your `DataFrame` and name it `time_analysis`. It's good practice to do this before starting to add columns and otherwise modify the data.\n",
    "\n",
    "Now write 3 assignment statements to add a column to the `time_analysis` `DataFrame`called `'FewKids'`. You'll need to use `.loc`. Use variables `no_kid`, `one_kid`, and `twoplus_kid` as indexes, one per assignment statement."
   ]
  },
  {
   "cell_type": "code",
   "execution_count": null,
   "id": "a4229c58",
   "metadata": {},
   "outputs": [],
   "source": [
    "# place your answer in this cell\n",
    "time_analysis = time_data.copy()\n",
    "\n"
   ]
  },
  {
   "cell_type": "markdown",
   "id": "e20a6a5a",
   "metadata": {},
   "source": [
    "##  Question 3"
   ]
  },
  {
   "cell_type": "markdown",
   "id": "9ff239ad",
   "metadata": {},
   "source": [
    "Extract the `Maritial Status` column and name it `marital_status`. There are 6 values: 1 is married, 2 is common law, 3 is widowed, 4 is separated, 5 is divorced, and 6 is single.\n",
    "\n",
    "Create a Boolean `Series` named `M_CL_Y` that is `True` when a participant is either married or common law and `False` otherwise.\n",
    "\n",
    "Create a Boolean `Series` named `M_CL_N` that is `True` when a participant is _not_ married or common law — that means widowed, separated, divorced, or single.\n",
    "\n",
    "Hint: You may find it easiest to create 6 Boolean `Series`, one for each number, and then use `|` to combine them when you assign to `M_CL_Y` and `M_CL_N`.\n",
    "\n",
    "Add a new column called `'married_or_CL_YN'` to the `DataFrame` using these two `Series`. The values in the column will be either `True` or `False`."
   ]
  },
  {
   "cell_type": "code",
   "execution_count": null,
   "id": "6b16f6f2",
   "metadata": {},
   "outputs": [],
   "source": [
    "# place your answer in this cell\n",
    "\n"
   ]
  },
  {
   "cell_type": "markdown",
   "id": "4c555c29",
   "metadata": {},
   "source": [
    "Here is what you hopefully see:\n",
    "\n",
    "![time_analysis.head()](time_analysis_1.png)"
   ]
  },
  {
   "cell_type": "markdown",
   "id": "c92e9400",
   "metadata": {},
   "source": [
    "## Question 4"
   ]
  },
  {
   "cell_type": "markdown",
   "id": "4320d9b5",
   "metadata": {},
   "source": [
    "Create a Boolean variable called `young_unmarried` for residents that are between the ages of 25 to 44 that are neither married nor common law.\n",
    "\n",
    "To do so, we will define \"young\" to be those between the ages that ages of 25 to 44. That's age groups 2 and 3.\n",
    "\n",
    "You'll need to extract the `'Age Group'` column as a `Series`, then create a Boolean `Series` for the 2's, then another for the 3's, then combine them using `|` to get a _third_ Boolean `Series` that you should name `young`.\n",
    "\n",
    "Then do the same for your new column, `'married_or_CL_YN'`. You'll need to extract the column as a `Series`, then create a Boolean `Series` from that new column based on whether the value is `False`. (Yikes!)\n",
    "\n",
    "Finally, you can combine `young` and `unmarried` using `&` to get a new Boolean `Series`, and you should name it `young_unmarried`.\n",
    "\n",
    "Be sure to examine the to make sure you have what you want! In `young_unmarried`, the value should be `True` if `young` is `True` *and* `married_or_CL_YN` is `False`."
   ]
  },
  {
   "cell_type": "code",
   "execution_count": null,
   "id": "9086edb5",
   "metadata": {},
   "outputs": [],
   "source": [
    "# place your answer in this cell\n",
    "\n",
    "# To get you started, here is the 'Age Group' column as a Series.\n",
    "age_group = time_analysis['Age Group']\n"
   ]
  },
  {
   "cell_type": "markdown",
   "id": "f3643006",
   "metadata": {},
   "source": [
    "## Question 5"
   ]
  },
  {
   "cell_type": "markdown",
   "id": "0a59f1a7",
   "metadata": {},
   "source": [
    "Use the `young_unmarried` Boolean `Series` in question 3 to subset the `time_analysis` `DataFrame` to select rows where the residents are between the ages of 25 to 44, and unmarried. Name this new `DataFrame` `time_young_unmarried`."
   ]
  },
  {
   "cell_type": "code",
   "execution_count": null,
   "id": "ecba4c11",
   "metadata": {},
   "outputs": [],
   "source": [
    "# place your answer in this cell"
   ]
  },
  {
   "cell_type": "markdown",
   "id": "fc5d440d",
   "metadata": {},
   "source": [
    "## Question 6"
   ]
  },
  {
   "cell_type": "markdown",
   "id": "cc6e1119",
   "metadata": {},
   "source": [
    "Time to investigate how many of them have 2 or more children.\n",
    "\n",
    "These two Boolean `Series` were created earlier:\n",
    "\n",
    "+ `young_unmarried`: `True` for residents that are between the ages of 25 to 44 that are neither married nor common law. Extracted from the `time_analysis` `DataFrame`.\n",
    "\n",
    "+ `twoplus_kid`: `True` for residents who have two or more children.\n",
    "\n",
    "Combine them with `|` and name the resulting Boolean `Series` `young_many_kids`.\n",
    "\n",
    "This code tells you how many True and False values there are: `young_many_kids.value_counts()`. (Our code counted 182 `True`s.)"
   ]
  },
  {
   "cell_type": "code",
   "execution_count": null,
   "id": "2da57455",
   "metadata": {},
   "outputs": [],
   "source": [
    "# place your answer in this cell"
   ]
  },
  {
   "cell_type": "markdown",
   "id": "fb6440a9",
   "metadata": {},
   "source": [
    "## Question 7 "
   ]
  },
  {
   "cell_type": "markdown",
   "id": "f462301e",
   "metadata": {},
   "source": [
    "Remember back in Question 2 you created a new column, `'FewKids'`? Let's use it to find rows \n",
    "Extract that column as a `Series` and name it `few_kids`. Now compare `few_kids` to `2` using `==` to get a Boolean `Series`, and name it `few_kids_2`.\n",
    "\n",
    "You should use `few_kids_2` as an index into `time_analysis` to subset the rows for participants who have 2 or more children.\n",
    "\n",
    "Refer back to the `time_analysis` `DataFrame` from question 3. Create a crosstab for `married_or_CL_YN` and `FewKids`. Name it `married_and_kids`.\n",
    "\n",
    "What proportion of married people report having two or more children? You should be able to access that value like this: `married_and_kids.iloc[1, 1]`. Name that value `married_and_kids_proportion`."
   ]
  },
  {
   "cell_type": "code",
   "execution_count": null,
   "id": "31c9ce8f",
   "metadata": {},
   "outputs": [],
   "source": [
    "# place you answer in this cell"
   ]
  },
  {
   "cell_type": "markdown",
   "id": "bd26375b",
   "metadata": {},
   "source": [
    "# Check that you've used the correct variable names"
   ]
  },
  {
   "cell_type": "code",
   "execution_count": null,
   "id": "07cb958a",
   "metadata": {},
   "outputs": [],
   "source": [
    "# This will run without error once the 7 questions are answered correctly.\n",
    "\n",
    "# Q1\n",
    "print('no_kid:')\n",
    "print(no_kid.head())\n",
    "print('one_kid:')\n",
    "print(one_kid.head())\n",
    "print('twoplus_kid:')\n",
    "print(twoplus_kid.head())"
   ]
  },
  {
   "cell_type": "code",
   "execution_count": null,
   "id": "a70c1e56",
   "metadata": {},
   "outputs": [],
   "source": [
    "# Q2\n",
    "print('time_analysis:')\n",
    "print(time_analysis.head())"
   ]
  },
  {
   "cell_type": "code",
   "execution_count": null,
   "id": "c3bfe7fc",
   "metadata": {},
   "outputs": [],
   "source": [
    "# Q3\n",
    "print('marital_status:')\n",
    "print(marital_status.head())\n",
    "print('M_CL_Y:')\n",
    "print(M_CL_Y.head())\n",
    "print('M_CL_N:')\n",
    "print(M_CL_N.head())"
   ]
  },
  {
   "cell_type": "code",
   "execution_count": null,
   "id": "dfe7a62f",
   "metadata": {},
   "outputs": [],
   "source": [
    "# Q4\n",
    "print('young:')\n",
    "print(young.head())\n",
    "print('young_unmarried:')\n",
    "print(young_unmarried.head())"
   ]
  },
  {
   "cell_type": "code",
   "execution_count": null,
   "id": "8925c836",
   "metadata": {},
   "outputs": [],
   "source": [
    "# Q5\n",
    "print('time_young_unmarried:')\n",
    "print(time_young_unmarried.head())"
   ]
  },
  {
   "cell_type": "code",
   "execution_count": null,
   "id": "e5b22a8a",
   "metadata": {},
   "outputs": [],
   "source": [
    "# Q6\n",
    "print('married_and_kids:')\n",
    "print(young_and_manykids)"
   ]
  },
  {
   "cell_type": "code",
   "execution_count": null,
   "id": "5be406b8",
   "metadata": {},
   "outputs": [],
   "source": [
    "# Q7\n",
    "print('few_kids:')\n",
    "print(few_kids)\n",
    "print('married_and_kids:')\n",
    "print(married_and_kids)\n",
    "print('married_and_kids_proportion:')\n",
    "print(married_and_kids_proportion)"
   ]
  }
 ],
 "metadata": {
  "kernelspec": {
   "display_name": "Python 3 (ipykernel)",
   "language": "python",
   "name": "python3"
  },
  "language_info": {
   "codemirror_mode": {
    "name": "ipython",
    "version": 3
   },
   "file_extension": ".py",
   "mimetype": "text/x-python",
   "name": "python",
   "nbconvert_exporter": "python",
   "pygments_lexer": "ipython3",
   "version": "3.9.9"
  }
 },
 "nbformat": 4,
 "nbformat_minor": 5
}
